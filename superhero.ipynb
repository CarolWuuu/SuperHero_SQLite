{
  "nbformat": 4,
  "nbformat_minor": 0,
  "metadata": {
    "colab": {
      "provenance": [],
      "authorship_tag": "ABX9TyNy697GaFLDvd9w6YX63bbb",
      "include_colab_link": true
    },
    "kernelspec": {
      "name": "python3",
      "display_name": "Python 3"
    },
    "language_info": {
      "name": "python"
    }
  },
  "cells": [
    {
      "cell_type": "markdown",
      "metadata": {
        "id": "view-in-github",
        "colab_type": "text"
      },
      "source": [
        "<a href=\"https://colab.research.google.com/github/CarolWuuu/SuperHero_SQLite/blob/main/superhero.ipynb\" target=\"_parent\"><img src=\"https://colab.research.google.com/assets/colab-badge.svg\" alt=\"Open In Colab\"/></a>"
      ]
    },
    {
      "cell_type": "code",
      "execution_count": 14,
      "metadata": {
        "id": "ul9grY_dVcCl"
      },
      "outputs": [],
      "source": [
        "import sqlite3\n",
        "import pandas as pd"
      ]
    },
    {
      "cell_type": "code",
      "source": [
        "# create and connect to SQLite db\n",
        "conn = sqlite3.connect(\"superhero_db.sqlite\")\n",
        "cursor = conn.cursor()"
      ],
      "metadata": {
        "id": "UjHzQhF6WC1C"
      },
      "execution_count": 12,
      "outputs": []
    },
    {
      "cell_type": "code",
      "source": [
        "# define db schema\n",
        "ddl_statements = '''\n",
        "DROP TABLE IF EXISTS heros;\n",
        "DROP TABLE IF EXISTS villains;\n",
        "DROP TABLE IF EXISTS battles;\n",
        "\n",
        "CREATE TABLE heros (\n",
        "  id INTEGER PRIMARY KEY AUTOINCREMENT,\n",
        "  name TEXT NOT NULL,\n",
        "  power TEXT NOT NULL,\n",
        "  team TEXT NOT NULL\n",
        ");\n",
        "\n",
        "CREATE TABLE villains (\n",
        "  id INTEGER PRIMARY KEY AUTOINCREMENT,\n",
        "  name TEXT NOT NULL,\n",
        "  evil_plan TEXT NOT NULL\n",
        ");\n",
        "\n",
        "CREATE TABLE battles (\n",
        "  id INTEGER PRIMARY KEY AUTOINCREMENT,\n",
        "  hero_id INTEGER,\n",
        "  villain_id INTEGER,\n",
        "  outcome TEXT NOT NULL,\n",
        "  FOREIGN KEY (hero_id) REFERENCES heroes(id),\n",
        "  FOREIGN KEY (villain_id) REFERENCES villains(id)\n",
        ");\n",
        "'''\n",
        "\n",
        "# execute statement\n",
        "cursor.executescript(ddl_statements)\n",
        "conn.commit()\n"
      ],
      "metadata": {
        "id": "wcenTR0RWZ8i"
      },
      "execution_count": 13,
      "outputs": []
    },
    {
      "cell_type": "code",
      "source": [
        "# Load data from CSVs and insert into tables\n",
        "heroes_df = pd.read_csv(\"heroes.csv\")\n",
        "villains_df = pd.read_csv(\"villains.csv\")\n",
        "battles_df = pd.read_csv(\"battles.csv\")\n",
        "\n",
        "heroes_df.to_sql(\"heroes\", conn, if_exists=\"append\", index=False)\n",
        "villains_df.to_sql(\"villains\", conn, if_exists=\"append\", index=False)\n",
        "battles_df.to_sql(\"battles\", conn, if_exists=\"append\", index=False)\n",
        "\n",
        "# Verify data insertion\n",
        "print(\"Heroes:\")\n",
        "print(pd.read_sql(\"SELECT * FROM heroes LIMIT 5\", conn))\n",
        "print(\"\\nVillains:\")\n",
        "print(pd.read_sql(\"SELECT * FROM villains LIMIT 5\", conn))\n",
        "print(\"\\nBattles:\")\n",
        "print(pd.read_sql(\"SELECT * FROM battles LIMIT 5\", conn))"
      ],
      "metadata": {
        "colab": {
          "base_uri": "https://localhost:8080/"
        },
        "id": "jyo44vKtZWns",
        "outputId": "7b9ae853-2d7b-4ebe-f5d6-e296f39fc77d"
      },
      "execution_count": 15,
      "outputs": [
        {
          "output_type": "stream",
          "name": "stdout",
          "text": [
            "Heroes:\n",
            "   id        name             power            team\n",
            "0   1  Spider-Man      Web-slinging        Avengers\n",
            "1   2    Iron Man     Powered Armor        Avengers\n",
            "2   3      Batman  Genius Detective  Justice League\n",
            "3   4    Superman    Super Strength  Justice League\n",
            "4   5        Thor    God of Thunder        Avengers\n",
            "\n",
            "Villains:\n",
            "   id          name                           evil_plan\n",
            "0   1  Green Goblin                  Terrorize New York\n",
            "1   2        Thanos         Collect all Infinity Stones\n",
            "2   3         Joker              Spread chaos in Gotham\n",
            "3   4    Lex Luthor                     Defeat Superman\n",
            "4   5          Loki  Trick humanity into worshiping him\n",
            "\n",
            "Battles:\n",
            "   id  hero_id  villain_id       outcome\n",
            "0   1        1          10  Villain Wins\n",
            "1   2        9           3     Hero Wins\n",
            "2   3        8           1          Draw\n",
            "3   4        5           4  Villain Wins\n",
            "4   5        1           7     Hero Wins\n"
          ]
        }
      ]
    },
    {
      "cell_type": "code",
      "source": [
        "# SQL queries\n",
        "# Retrieve all superheroes and their powers.\n",
        "print('All heroes and their powers:')\n",
        "for row in cursor.execute('SELECT name, power FROM heroes'):\n",
        "  print(row)"
      ],
      "metadata": {
        "colab": {
          "base_uri": "https://localhost:8080/"
        },
        "id": "P1Tcr1EKZoaw",
        "outputId": "00cbe78c-68d4-4222-fb16-fd5be8d43ede"
      },
      "execution_count": 16,
      "outputs": [
        {
          "output_type": "stream",
          "name": "stdout",
          "text": [
            "All heroes and their powers:\n",
            "('Spider-Man', 'Web-slinging')\n",
            "('Iron Man', 'Powered Armor')\n",
            "('Batman', 'Genius Detective')\n",
            "('Superman', 'Super Strength')\n",
            "('Thor', 'God of Thunder')\n",
            "('Wonder Woman', 'Amazonian Strength')\n",
            "('Black Panther', 'Enhanced Agility')\n",
            "('The Flash', 'Super Speed')\n",
            "('Hulk', 'Super Strength')\n",
            "('Doctor Strange', 'Mystic Arts')\n"
          ]
        }
      ]
    },
    {
      "cell_type": "code",
      "source": [
        "# Find all battles where the hero won.\n",
        "print('All battles where the hero won:')\n",
        "cursor.execute('''\n",
        "  SELECT * FROM Battles\n",
        "  WHERE outcome = \"Hero Wins\"\n",
        "''')\n",
        "for row in cursor.fetchall():\n",
        "  print(row)"
      ],
      "metadata": {
        "colab": {
          "base_uri": "https://localhost:8080/"
        },
        "id": "ntCqQUQDbbrE",
        "outputId": "bb3b0a83-6f5c-40e7-eee5-9a5fcf891638"
      },
      "execution_count": 18,
      "outputs": [
        {
          "output_type": "stream",
          "name": "stdout",
          "text": [
            "All battles where the hero won:\n",
            "(2, 9, 3, 'Hero Wins')\n",
            "(5, 1, 7, 'Hero Wins')\n",
            "(7, 9, 8, 'Hero Wins')\n",
            "(8, 3, 2, 'Hero Wins')\n",
            "(9, 7, 5, 'Hero Wins')\n",
            "(13, 8, 9, 'Hero Wins')\n",
            "(20, 3, 4, 'Hero Wins')\n",
            "(29, 3, 5, 'Hero Wins')\n",
            "(30, 5, 5, 'Hero Wins')\n"
          ]
        }
      ]
    },
    {
      "cell_type": "code",
      "source": [
        "# Retrieve all villains and their evil plans.\n",
        "print('All villains and their evil plans:')\n",
        "for row in cursor.execute('SELECT name, evil_plan FROM villains'):\n",
        "  print(row)"
      ],
      "metadata": {
        "colab": {
          "base_uri": "https://localhost:8080/"
        },
        "id": "rzPY3vr0cosC",
        "outputId": "b872229e-b6a2-4925-febc-d178a1c7d6a8"
      },
      "execution_count": 19,
      "outputs": [
        {
          "output_type": "stream",
          "name": "stdout",
          "text": [
            "All villains and their evil plans:\n",
            "('Green Goblin', 'Terrorize New York')\n",
            "('Thanos', 'Collect all Infinity Stones')\n",
            "('Joker', 'Spread chaos in Gotham')\n",
            "('Lex Luthor', 'Defeat Superman')\n",
            "('Loki', 'Trick humanity into worshiping him')\n",
            "('Ultron', 'AI world domination')\n",
            "('Darkseid', 'Control the universe')\n",
            "('Venom', 'Consume Spider-Man')\n",
            "('Magneto', 'Mutant supremacy')\n",
            "('Red Skull', 'Revive Hydra')\n"
          ]
        }
      ]
    },
    {
      "cell_type": "code",
      "source": [
        "# Determine which superhero has fought the most battles\n",
        "print('Superhero who has fought the most battles:')\n",
        "cursor.execute('''\n",
        "  SELECT heroes.name, COUNT(battles.id) AS battle_count FROM battles\n",
        "  JOIN heroes ON battles.hero_id = heroes.id\n",
        "  GROUP BY heroes.name\n",
        "  ORDER BY battle_count DESC LIMIT 1;\n",
        "''')\n",
        "for row in cursor.fetchall():\n",
        "  print(row)"
      ],
      "metadata": {
        "colab": {
          "base_uri": "https://localhost:8080/"
        },
        "id": "oyOTBtylc9SX",
        "outputId": "a4503e59-843b-4b21-e21b-d7f6eb871e13"
      },
      "execution_count": 21,
      "outputs": [
        {
          "output_type": "stream",
          "name": "stdout",
          "text": [
            "Superhero who has fought the most battles:\n",
            "('Batman', 7)\n"
          ]
        }
      ]
    },
    {
      "cell_type": "code",
      "source": [
        "# Custome feature table\n",
        "statement = '''\n",
        "  DROP TABLE hideouts;\n",
        "  CREATE TABLE IF NOT EXISTS hideouts (\n",
        "  id INTEGER PRIMARY KEY AUTOINCREMENT,\n",
        "  villain_id INTEGER,\n",
        "  location TEXT NOT NULL,\n",
        "  security_level TEXT NOT NULL,\n",
        "  FOREIGN KEY (villain_id) REFERENCES villains(id)\n",
        ");\n",
        "'''\n",
        "\n",
        "cursor.executescript(statement)\n",
        "conn.commit()\n"
      ],
      "metadata": {
        "id": "6sHHkTEod7H_"
      },
      "execution_count": 29,
      "outputs": []
    },
    {
      "cell_type": "code",
      "source": [
        "# insert villain hideouts data\n",
        "hideout_array = [\n",
        "  (1, 1, 'Goblin Glider Base', 'High'),\n",
        "  (2, 2, 'Sanctum Sanctorum (Stark Tower)', 'Extreme'),\n",
        "  (3, 3, 'Arkham Asylum', 'Medium'),\n",
        "  (4, 4, 'LexCorp Tower', 'High'),\n",
        "  (5, 5, 'Asgardian Vault', 'Extreme'),\n",
        "  (6, 6, 'AI Cloud Network', 'Extreme'),\n",
        "  (7, 7, 'Apokolips Throne Room', 'Extreme'),\n",
        "  (8, 8, 'Venom’s Lair in the Sewers', 'Medium'),\n",
        "  (9, 9, 'Magneto’s Mutant Island', 'High'),\n",
        "  (10, 10,'Hydra Base in the Arctic', 'High')\n",
        "]\n",
        "\n",
        "cursor.executemany('''\n",
        "    INSERT INTO hideouts (id, villain_id, location, security_level)\n",
        "    VALUES (?, ?, ?, ?)\n",
        "''', hideout_array)\n",
        "\n",
        "conn.commit()"
      ],
      "metadata": {
        "id": "bkaljvAXeiAW"
      },
      "execution_count": 30,
      "outputs": []
    },
    {
      "cell_type": "code",
      "source": [
        "# Retrieve all villains and their hideout locations\n",
        "print('All villains and their hideout locations:')\n",
        "cursor.execute('''\n",
        "  SELECT villains.name, hideouts.location FROM hideouts\n",
        "  JOIN villains ON hideouts.villain_id = villains.id;\n",
        "''')\n",
        "for row in cursor.fetchall():\n",
        "  print(row)"
      ],
      "metadata": {
        "colab": {
          "base_uri": "https://localhost:8080/"
        },
        "id": "g83msNSSfa0i",
        "outputId": "d933c3c2-4d87-45d3-c4d9-aed0ff5c1218"
      },
      "execution_count": 31,
      "outputs": [
        {
          "output_type": "stream",
          "name": "stdout",
          "text": [
            "All villains and their hideout locations:\n",
            "('Green Goblin', 'Goblin Glider Base')\n",
            "('Thanos', 'Sanctum Sanctorum (Stark Tower)')\n",
            "('Joker', 'Arkham Asylum')\n",
            "('Lex Luthor', 'LexCorp Tower')\n",
            "('Loki', 'Asgardian Vault')\n",
            "('Ultron', 'AI Cloud Network')\n",
            "('Darkseid', 'Apokolips Throne Room')\n",
            "('Venom', 'Venom’s Lair in the Sewers')\n",
            "('Magneto', 'Magneto’s Mutant Island')\n",
            "('Red Skull', 'Hydra Base in the Arctic')\n"
          ]
        }
      ]
    },
    {
      "cell_type": "code",
      "source": [
        "# Bonus\n",
        "\n",
        "import matplotlib.pyplot as plt\n",
        "cursor.execute('''\n",
        "  SELECT heroes.name, COUNT(battles.id) AS battle_count FROM battles\n",
        "  JOIN heroes ON battles.hero_id = heroes.id\n",
        "  GROUP BY heroes.name;\n",
        "''')\n",
        "data = cursor.fetchall()\n",
        "\n",
        "heroes = [row[0] for row in data]\n",
        "battles = [row[1] for row in data]\n",
        "\n",
        "# Create the bar chart\n",
        "plt.figure(figsize=(10, 6))\n",
        "plt.bar(heroes, battles, color='skyblue')\n",
        "\n",
        "# Adding titles and labels\n",
        "plt.title('Number of Battles Fought by Superheroes', fontsize=14)\n",
        "plt.xlabel('Superheroes', fontsize=12)\n",
        "plt.ylabel('Number of Battles', fontsize=12)\n",
        "\n",
        "# Display the chart\n",
        "plt.xticks(rotation=45)\n",
        "plt.tight_layout()\n",
        "plt.show()"
      ],
      "metadata": {
        "colab": {
          "base_uri": "https://localhost:8080/",
          "height": 607
        },
        "id": "cGDI2FsDh4MK",
        "outputId": "c0267261-bcd3-4df7-f313-4e49c8e82a94"
      },
      "execution_count": 33,
      "outputs": [
        {
          "output_type": "display_data",
          "data": {
            "text/plain": [
              "<Figure size 1000x600 with 1 Axes>"
            ],
            "image/png": "[encoded data removed]"
          },
          "metadata": {}
        }
      ]
    }
  ]
}